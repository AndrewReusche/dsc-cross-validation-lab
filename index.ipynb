{
 "cells": [
  {
   "cell_type": "markdown",
   "metadata": {},
   "source": [
    "# Introduction to Cross-Validation - Lab\n",
    "\n",
    "## Introduction\n",
    "\n",
    "In this lab, you'll be able to practice your cross-validation skills!\n",
    "\n",
    "\n",
    "## Objectives\n",
    "\n",
    "You will be able to:\n",
    "\n",
    "- Perform cross validation on a model\n",
    "- Compare and contrast model validation strategies"
   ]
  },
  {
   "cell_type": "markdown",
   "metadata": {},
   "source": [
    "## Let's Get Started\n",
    "\n",
    "We included the code to pre-process the Ames Housing dataset below. This is done for the sake of expediency, although it may result in data leakage and therefore overly optimistic model metrics."
   ]
  },
  {
   "cell_type": "code",
   "execution_count": 3,
   "metadata": {},
   "outputs": [],
   "source": [
    "import pandas as pd\n",
    "import numpy as np\n",
    "import matplotlib.pyplot as plt\n",
    "%matplotlib inline\n",
    "\n",
    "ames = pd.read_csv('ames.csv')\n",
    "\n",
    "continuous = ['LotArea', '1stFlrSF', 'GrLivArea', 'SalePrice']\n",
    "categoricals = ['BldgType', 'KitchenQual', 'SaleType', 'MSZoning', 'Street', 'Neighborhood']\n",
    "\n",
    "ames_cont = ames[continuous]\n",
    "\n",
    "# log features\n",
    "log_names = [f'{column}_log' for column in ames_cont.columns]\n",
    "\n",
    "ames_log = np.log(ames_cont)\n",
    "ames_log.columns = log_names\n",
    "\n",
    "# normalize (subract mean and divide by std)\n",
    "\n",
    "def normalize(feature):\n",
    "    return (feature - feature.mean()) / feature.std()\n",
    "\n",
    "ames_log_norm = ames_log.apply(normalize)\n",
    "\n",
    "# one hot encode categoricals\n",
    "ames_ohe = pd.get_dummies(ames[categoricals], prefix=categoricals, drop_first=True)\n",
    "\n",
    "preprocessed = pd.concat([ames_log_norm, ames_ohe], axis=1)\n",
    "\n",
    "X = preprocessed.drop('SalePrice_log', axis=1)\n",
    "y = preprocessed['SalePrice_log']"
   ]
  },
  {
   "cell_type": "markdown",
   "metadata": {},
   "source": [
    "## Train-Test Split\n",
    "\n",
    "Perform a train-test split with a test set of 20% and a random state of 4."
   ]
  },
  {
   "cell_type": "code",
   "execution_count": 4,
   "metadata": {},
   "outputs": [],
   "source": [
    "# Import train_test_split from sklearn.model_selection\n",
    "from sklearn.model_selection import train_test_split"
   ]
  },
  {
   "cell_type": "code",
   "execution_count": 5,
   "metadata": {},
   "outputs": [],
   "source": [
    "# Split the data into training and test sets (assign 20% to test set)\n",
    "X_train, X_test, y_train, y_test = train_test_split(X, y, test_size=0.2, random_state=4)"
   ]
  },
  {
   "cell_type": "markdown",
   "metadata": {},
   "source": [
    "### Fit a Model\n",
    "\n",
    "Fit a linear regression model on the training set"
   ]
  },
  {
   "cell_type": "code",
   "execution_count": 6,
   "metadata": {},
   "outputs": [],
   "source": [
    "# Import LinearRegression from sklearn.linear_model\n",
    "from sklearn.linear_model import LinearRegression"
   ]
  },
  {
   "cell_type": "code",
   "execution_count": 7,
   "metadata": {},
   "outputs": [
    {
     "data": {
      "text/html": [
       "<style>#sk-container-id-1 {color: black;}#sk-container-id-1 pre{padding: 0;}#sk-container-id-1 div.sk-toggleable {background-color: white;}#sk-container-id-1 label.sk-toggleable__label {cursor: pointer;display: block;width: 100%;margin-bottom: 0;padding: 0.3em;box-sizing: border-box;text-align: center;}#sk-container-id-1 label.sk-toggleable__label-arrow:before {content: \"▸\";float: left;margin-right: 0.25em;color: #696969;}#sk-container-id-1 label.sk-toggleable__label-arrow:hover:before {color: black;}#sk-container-id-1 div.sk-estimator:hover label.sk-toggleable__label-arrow:before {color: black;}#sk-container-id-1 div.sk-toggleable__content {max-height: 0;max-width: 0;overflow: hidden;text-align: left;background-color: #f0f8ff;}#sk-container-id-1 div.sk-toggleable__content pre {margin: 0.2em;color: black;border-radius: 0.25em;background-color: #f0f8ff;}#sk-container-id-1 input.sk-toggleable__control:checked~div.sk-toggleable__content {max-height: 200px;max-width: 100%;overflow: auto;}#sk-container-id-1 input.sk-toggleable__control:checked~label.sk-toggleable__label-arrow:before {content: \"▾\";}#sk-container-id-1 div.sk-estimator input.sk-toggleable__control:checked~label.sk-toggleable__label {background-color: #d4ebff;}#sk-container-id-1 div.sk-label input.sk-toggleable__control:checked~label.sk-toggleable__label {background-color: #d4ebff;}#sk-container-id-1 input.sk-hidden--visually {border: 0;clip: rect(1px 1px 1px 1px);clip: rect(1px, 1px, 1px, 1px);height: 1px;margin: -1px;overflow: hidden;padding: 0;position: absolute;width: 1px;}#sk-container-id-1 div.sk-estimator {font-family: monospace;background-color: #f0f8ff;border: 1px dotted black;border-radius: 0.25em;box-sizing: border-box;margin-bottom: 0.5em;}#sk-container-id-1 div.sk-estimator:hover {background-color: #d4ebff;}#sk-container-id-1 div.sk-parallel-item::after {content: \"\";width: 100%;border-bottom: 1px solid gray;flex-grow: 1;}#sk-container-id-1 div.sk-label:hover label.sk-toggleable__label {background-color: #d4ebff;}#sk-container-id-1 div.sk-serial::before {content: \"\";position: absolute;border-left: 1px solid gray;box-sizing: border-box;top: 0;bottom: 0;left: 50%;z-index: 0;}#sk-container-id-1 div.sk-serial {display: flex;flex-direction: column;align-items: center;background-color: white;padding-right: 0.2em;padding-left: 0.2em;position: relative;}#sk-container-id-1 div.sk-item {position: relative;z-index: 1;}#sk-container-id-1 div.sk-parallel {display: flex;align-items: stretch;justify-content: center;background-color: white;position: relative;}#sk-container-id-1 div.sk-item::before, #sk-container-id-1 div.sk-parallel-item::before {content: \"\";position: absolute;border-left: 1px solid gray;box-sizing: border-box;top: 0;bottom: 0;left: 50%;z-index: -1;}#sk-container-id-1 div.sk-parallel-item {display: flex;flex-direction: column;z-index: 1;position: relative;background-color: white;}#sk-container-id-1 div.sk-parallel-item:first-child::after {align-self: flex-end;width: 50%;}#sk-container-id-1 div.sk-parallel-item:last-child::after {align-self: flex-start;width: 50%;}#sk-container-id-1 div.sk-parallel-item:only-child::after {width: 0;}#sk-container-id-1 div.sk-dashed-wrapped {border: 1px dashed gray;margin: 0 0.4em 0.5em 0.4em;box-sizing: border-box;padding-bottom: 0.4em;background-color: white;}#sk-container-id-1 div.sk-label label {font-family: monospace;font-weight: bold;display: inline-block;line-height: 1.2em;}#sk-container-id-1 div.sk-label-container {text-align: center;}#sk-container-id-1 div.sk-container {/* jupyter's `normalize.less` sets `[hidden] { display: none; }` but bootstrap.min.css set `[hidden] { display: none !important; }` so we also need the `!important` here to be able to override the default hidden behavior on the sphinx rendered scikit-learn.org. See: https://github.com/scikit-learn/scikit-learn/issues/21755 */display: inline-block !important;position: relative;}#sk-container-id-1 div.sk-text-repr-fallback {display: none;}</style><div id=\"sk-container-id-1\" class=\"sk-top-container\"><div class=\"sk-text-repr-fallback\"><pre>LinearRegression()</pre><b>In a Jupyter environment, please rerun this cell to show the HTML representation or trust the notebook. <br />On GitHub, the HTML representation is unable to render, please try loading this page with nbviewer.org.</b></div><div class=\"sk-container\" hidden><div class=\"sk-item\"><div class=\"sk-estimator sk-toggleable\"><input class=\"sk-toggleable__control sk-hidden--visually\" id=\"sk-estimator-id-1\" type=\"checkbox\" checked><label for=\"sk-estimator-id-1\" class=\"sk-toggleable__label sk-toggleable__label-arrow\">LinearRegression</label><div class=\"sk-toggleable__content\"><pre>LinearRegression()</pre></div></div></div></div></div>"
      ],
      "text/plain": [
       "LinearRegression()"
      ]
     },
     "execution_count": 7,
     "metadata": {},
     "output_type": "execute_result"
    }
   ],
   "source": [
    "# Instantiate and fit a linear regression model\n",
    "linreg = LinearRegression()\n",
    "linreg.fit(X_train, y_train)"
   ]
  },
  {
   "cell_type": "markdown",
   "metadata": {},
   "source": [
    "### Calculate MSE\n",
    "\n",
    "Calculate the mean squared error on the test set"
   ]
  },
  {
   "cell_type": "code",
   "execution_count": 8,
   "metadata": {},
   "outputs": [],
   "source": [
    "# Import mean_squared_error from sklearn.metrics\n",
    "from sklearn.metrics import mean_squared_error"
   ]
  },
  {
   "cell_type": "code",
   "execution_count": 9,
   "metadata": {},
   "outputs": [
    {
     "name": "stdout",
     "output_type": "stream",
     "text": [
      "0.15233997210708142\n"
     ]
    }
   ],
   "source": [
    "# Calculate MSE on test set\n",
    "y_hat_test = linreg.predict(X_test)\n",
    "test_mse = mean_squared_error(y_test, y_hat_test)\n",
    "print(test_mse)"
   ]
  },
  {
   "cell_type": "markdown",
   "metadata": {},
   "source": [
    "## Cross-Validation using Scikit-Learn\n",
    "\n",
    "Now let's compare that single test MSE to a cross-validated test MSE."
   ]
  },
  {
   "cell_type": "code",
   "execution_count": 10,
   "metadata": {},
   "outputs": [],
   "source": [
    "# Import cross_val_score from sklearn.model_selection\n",
    "from sklearn.model_selection import cross_val_score"
   ]
  },
  {
   "cell_type": "code",
   "execution_count": 11,
   "metadata": {},
   "outputs": [
    {
     "name": "stdout",
     "output_type": "stream",
     "text": [
      "[0.12431546 0.19350065 0.1891053  0.17079325 0.20742705]\n"
     ]
    }
   ],
   "source": [
    "# Find MSE scores for a 5-fold cross-validation\n",
    "cv_results_5 = -cross_val_score(linreg, X, y, cv=5, scoring=\"neg_mean_squared_error\")\n",
    "print(cv_results_5)"
   ]
  },
  {
   "cell_type": "code",
   "execution_count": 12,
   "metadata": {},
   "outputs": [
    {
     "data": {
      "text/plain": [
       "0.1770283421000109"
      ]
     },
     "execution_count": 12,
     "metadata": {},
     "output_type": "execute_result"
    }
   ],
   "source": [
    "# Get the average MSE score\n",
    "cv_results_5.mean()"
   ]
  },
  {
   "cell_type": "markdown",
   "metadata": {},
   "source": [
    "Compare and contrast the results. What is the difference between the train-test split and cross-validation results? Do you \"trust\" one more than the other?"
   ]
  },
  {
   "cell_type": "code",
   "execution_count": 13,
   "metadata": {},
   "outputs": [
    {
     "data": {
      "text/plain": [
       "\"\\nBoth MSE's are very similar rounded to the second decimal place, with only a 0.02 difference. \\n\\nOverall the train test split has a more confident error rate at 0.152 than the 0.177 from\\nthe cross-validation mean. \\n\\nTaking into account all the MSE's in the cross-validation, only one of them is equal to or\\nlower than the train test split MSE, leading me to trust it more. However, we need to \\nremember that the cross-validation data is not randomized and could be the result of\\ndata clumping.\\n\\n\""
      ]
     },
     "execution_count": 13,
     "metadata": {},
     "output_type": "execute_result"
    }
   ],
   "source": [
    "# Your answer here\n",
    "\"\"\"\n",
    "Both MSE's are very similar rounded to the second decimal place, with only a 0.02 difference. \n",
    "\n",
    "Overall the train test split has a more confident error rate at 0.152 than the 0.177 from\n",
    "the cross-validation mean. \n",
    "\n",
    "Taking into account all the MSE's in the cross-validation, only one of them is equal to or\n",
    "lower than the train test split MSE, leading me to trust it more. However, we need to \n",
    "remember that the cross-validation data is not randomized and could be the result of\n",
    "data clumping.\n",
    "\n",
    "\"\"\""
   ]
  },
  {
   "cell_type": "markdown",
   "metadata": {},
   "source": [
    "## Level Up: Let's Build It from Scratch!\n",
    "\n",
    "### Create a Cross-Validation Function\n",
    "\n",
    "Write a function `kfolds(data, k)` that splits a dataset into `k` evenly sized pieces. If the full dataset is not divisible by `k`, make the first few folds one larger then later ones.\n",
    "\n",
    "For example, if you had this dataset:"
   ]
  },
  {
   "cell_type": "code",
   "execution_count": 16,
   "metadata": {},
   "outputs": [
    {
     "data": {
      "text/html": [
       "<div>\n",
       "<style scoped>\n",
       "    .dataframe tbody tr th:only-of-type {\n",
       "        vertical-align: middle;\n",
       "    }\n",
       "\n",
       "    .dataframe tbody tr th {\n",
       "        vertical-align: top;\n",
       "    }\n",
       "\n",
       "    .dataframe thead th {\n",
       "        text-align: right;\n",
       "    }\n",
       "</style>\n",
       "<table border=\"1\" class=\"dataframe\">\n",
       "  <thead>\n",
       "    <tr style=\"text-align: right;\">\n",
       "      <th></th>\n",
       "      <th>color</th>\n",
       "    </tr>\n",
       "  </thead>\n",
       "  <tbody>\n",
       "    <tr>\n",
       "      <th>0</th>\n",
       "      <td>red</td>\n",
       "    </tr>\n",
       "    <tr>\n",
       "      <th>1</th>\n",
       "      <td>orange</td>\n",
       "    </tr>\n",
       "    <tr>\n",
       "      <th>2</th>\n",
       "      <td>yellow</td>\n",
       "    </tr>\n",
       "    <tr>\n",
       "      <th>3</th>\n",
       "      <td>green</td>\n",
       "    </tr>\n",
       "    <tr>\n",
       "      <th>4</th>\n",
       "      <td>blue</td>\n",
       "    </tr>\n",
       "    <tr>\n",
       "      <th>5</th>\n",
       "      <td>indigo</td>\n",
       "    </tr>\n",
       "    <tr>\n",
       "      <th>6</th>\n",
       "      <td>violet</td>\n",
       "    </tr>\n",
       "  </tbody>\n",
       "</table>\n",
       "</div>"
      ],
      "text/plain": [
       "    color\n",
       "0     red\n",
       "1  orange\n",
       "2  yellow\n",
       "3   green\n",
       "4    blue\n",
       "5  indigo\n",
       "6  violet"
      ]
     },
     "execution_count": 16,
     "metadata": {},
     "output_type": "execute_result"
    }
   ],
   "source": [
    "example_data = pd.DataFrame({\n",
    "    \"color\": [\"red\", \"orange\", \"yellow\", \"green\", \"blue\", \"indigo\", \"violet\"]\n",
    "})\n",
    "example_data"
   ]
  },
  {
   "cell_type": "markdown",
   "metadata": {},
   "source": [
    "`kfolds(example_data, 3)` should return:\n",
    "\n",
    "* a dataframe with `red`, `orange`, `yellow`\n",
    "* a dataframe with `green`, `blue`\n",
    "* a dataframe with `indigo`, `violet`\n",
    "\n",
    "Because the example dataframe has 7 records, which is not evenly divisible by 3, so the \"leftover\" 1 record extends the length of the first dataframe."
   ]
  },
  {
   "cell_type": "code",
   "execution_count": 17,
   "metadata": {},
   "outputs": [],
   "source": [
    "def kfolds(data, k):\n",
    "    folds = []\n",
    "    \n",
    "    # Your code here\n",
    "    num_obs = len(data)\n",
    "    small_fold_size = num_obs // k\n",
    "    large_fold_size = small_fold_size + 1\n",
    "    leftovers = num_obs % k\n",
    "    \n",
    "    start_index = 0\n",
    "    for fold_n in range(k):\n",
    "        if fold_n < leftovers:\n",
    "            fold_size = large_fold_size\n",
    "        else:\n",
    "            fold_size = small_fold_size\n",
    "        \n",
    "        fold = data.iloc[start_index:start_index + fold_size]\n",
    "        folds.append(fold)\n",
    "        \n",
    "        start_index += fold_size\n",
    "    \n",
    "    return folds"
   ]
  },
  {
   "cell_type": "code",
   "execution_count": 18,
   "metadata": {},
   "outputs": [
    {
     "name": "stdout",
     "output_type": "stream",
     "text": [
      "    color\n",
      "0     red\n",
      "1  orange\n",
      "2  yellow \n",
      "\n",
      "   color\n",
      "3  green\n",
      "4   blue \n",
      "\n",
      "    color\n",
      "5  indigo\n",
      "6  violet \n",
      "\n"
     ]
    }
   ],
   "source": [
    "results = kfolds(example_data, 3)\n",
    "for result in results:\n",
    "    print(result, \"\\n\")"
   ]
  },
  {
   "cell_type": "markdown",
   "metadata": {},
   "source": [
    "### Apply Your Function to the Ames Housing Data\n",
    "\n",
    "Get folds for both `X` and `y`."
   ]
  },
  {
   "cell_type": "code",
   "execution_count": 20,
   "metadata": {},
   "outputs": [
    {
     "name": "stdout",
     "output_type": "stream",
     "text": [
      "     LotArea_log  1stFlrSF_log  GrLivArea_log  BldgType_2fmCon  \\\n",
      "0      -0.133185     -0.803295       0.529078            False   \n",
      "1       0.113403      0.418442      -0.381715            False   \n",
      "2       0.419917     -0.576363       0.659449            False   \n",
      "3       0.103311     -0.439137       0.541326            False   \n",
      "4       0.878108      0.112229       1.281751            False   \n",
      "..           ...           ...            ...              ...   \n",
      "287    -0.208982     -0.795950      -1.538509            False   \n",
      "288     0.156994     -0.645537      -1.395230            False   \n",
      "289    -0.070186     -1.445511      -0.079173            False   \n",
      "290     1.053039     -0.074628       0.874786            False   \n",
      "291    -0.898448     -0.522097       0.539579             True   \n",
      "\n",
      "     BldgType_Duplex  BldgType_Twnhs  BldgType_TwnhsE  KitchenQual_Fa  \\\n",
      "0              False           False            False           False   \n",
      "1              False           False            False           False   \n",
      "2              False           False            False           False   \n",
      "3              False           False            False           False   \n",
      "4              False           False            False           False   \n",
      "..               ...             ...              ...             ...   \n",
      "287            False           False            False           False   \n",
      "288            False           False            False           False   \n",
      "289            False           False            False           False   \n",
      "290            False           False            False           False   \n",
      "291            False           False            False            True   \n",
      "\n",
      "     KitchenQual_Gd  KitchenQual_TA  ...  Neighborhood_NoRidge  \\\n",
      "0              True           False  ...                 False   \n",
      "1             False            True  ...                 False   \n",
      "2              True           False  ...                 False   \n",
      "3              True           False  ...                 False   \n",
      "4              True           False  ...                  True   \n",
      "..              ...             ...  ...                   ...   \n",
      "287           False            True  ...                 False   \n",
      "288           False            True  ...                 False   \n",
      "289           False            True  ...                 False   \n",
      "290            True           False  ...                 False   \n",
      "291           False           False  ...                 False   \n",
      "\n",
      "     Neighborhood_NridgHt  Neighborhood_OldTown  Neighborhood_SWISU  \\\n",
      "0                   False                 False               False   \n",
      "1                   False                 False               False   \n",
      "2                   False                 False               False   \n",
      "3                   False                 False               False   \n",
      "4                   False                 False               False   \n",
      "..                    ...                   ...                 ...   \n",
      "287                 False                 False               False   \n",
      "288                 False                 False               False   \n",
      "289                 False                 False               False   \n",
      "290                 False                 False               False   \n",
      "291                 False                 False                True   \n",
      "\n",
      "     Neighborhood_Sawyer  Neighborhood_SawyerW  Neighborhood_Somerst  \\\n",
      "0                  False                 False                 False   \n",
      "1                  False                 False                 False   \n",
      "2                  False                 False                 False   \n",
      "3                  False                 False                 False   \n",
      "4                  False                 False                 False   \n",
      "..                   ...                   ...                   ...   \n",
      "287                False                 False                 False   \n",
      "288                 True                 False                 False   \n",
      "289                False                 False                 False   \n",
      "290                False                 False                 False   \n",
      "291                False                 False                 False   \n",
      "\n",
      "     Neighborhood_StoneBr  Neighborhood_Timber  Neighborhood_Veenker  \n",
      "0                   False                False                 False  \n",
      "1                   False                False                  True  \n",
      "2                   False                False                 False  \n",
      "3                   False                False                 False  \n",
      "4                   False                False                 False  \n",
      "..                    ...                  ...                   ...  \n",
      "287                 False                False                 False  \n",
      "288                 False                False                 False  \n",
      "289                 False                False                 False  \n",
      "290                 False                False                 False  \n",
      "291                 False                False                 False  \n",
      "\n",
      "[292 rows x 47 columns] \n",
      "\n",
      "     LotArea_log  1stFlrSF_log  GrLivArea_log  BldgType_2fmCon  \\\n",
      "292     0.447039      0.120464       0.539579            False   \n",
      "293     1.178606      0.894327       1.369125            False   \n",
      "294     0.113403      1.250703       0.411072            False   \n",
      "295    -0.254224     -0.304506      -1.070374            False   \n",
      "296     0.802095     -0.610760       0.249989            False   \n",
      "..           ...           ...            ...              ...   \n",
      "579     0.568649     -0.160375       0.674518            False   \n",
      "580     0.921659      0.809582      -0.009127            False   \n",
      "581     0.654817      1.933035       1.061041            False   \n",
      "582     0.518864     -0.953914      -1.688980            False   \n",
      "583     0.772264      1.005954       1.980605            False   \n",
      "\n",
      "     BldgType_Duplex  BldgType_Twnhs  BldgType_TwnhsE  KitchenQual_Fa  \\\n",
      "292            False           False            False           False   \n",
      "293            False           False            False           False   \n",
      "294            False           False            False           False   \n",
      "295            False           False            False           False   \n",
      "296            False           False            False           False   \n",
      "..               ...             ...              ...             ...   \n",
      "579            False           False            False           False   \n",
      "580            False           False            False           False   \n",
      "581            False           False            False           False   \n",
      "582             True           False            False           False   \n",
      "583            False           False            False           False   \n",
      "\n",
      "     KitchenQual_Gd  KitchenQual_TA  ...  Neighborhood_NoRidge  \\\n",
      "292           False            True  ...                 False   \n",
      "293            True           False  ...                 False   \n",
      "294           False            True  ...                 False   \n",
      "295           False            True  ...                 False   \n",
      "296           False            True  ...                 False   \n",
      "..              ...             ...  ...                   ...   \n",
      "579           False            True  ...                 False   \n",
      "580            True           False  ...                 False   \n",
      "581           False           False  ...                 False   \n",
      "582           False            True  ...                 False   \n",
      "583            True           False  ...                 False   \n",
      "\n",
      "     Neighborhood_NridgHt  Neighborhood_OldTown  Neighborhood_SWISU  \\\n",
      "292                 False                 False               False   \n",
      "293                 False                 False               False   \n",
      "294                 False                 False               False   \n",
      "295                 False                 False               False   \n",
      "296                 False                 False               False   \n",
      "..                    ...                   ...                 ...   \n",
      "579                 False                  True               False   \n",
      "580                 False                 False               False   \n",
      "581                  True                 False               False   \n",
      "582                 False                 False               False   \n",
      "583                 False                  True               False   \n",
      "\n",
      "     Neighborhood_Sawyer  Neighborhood_SawyerW  Neighborhood_Somerst  \\\n",
      "292                False                 False                 False   \n",
      "293                False                 False                 False   \n",
      "294                False                 False                 False   \n",
      "295                False                 False                 False   \n",
      "296                False                 False                 False   \n",
      "..                   ...                   ...                   ...   \n",
      "579                False                 False                 False   \n",
      "580                False                 False                 False   \n",
      "581                False                 False                 False   \n",
      "582                False                 False                 False   \n",
      "583                False                 False                 False   \n",
      "\n",
      "     Neighborhood_StoneBr  Neighborhood_Timber  Neighborhood_Veenker  \n",
      "292                 False                False                 False  \n",
      "293                 False                False                 False  \n",
      "294                 False                False                 False  \n",
      "295                 False                False                 False  \n",
      "296                 False                False                 False  \n",
      "..                    ...                  ...                   ...  \n",
      "579                 False                False                 False  \n",
      "580                 False                False                 False  \n",
      "581                 False                False                 False  \n",
      "582                 False                False                 False  \n",
      "583                 False                False                 False  \n",
      "\n",
      "[292 rows x 47 columns] \n",
      "\n",
      "     LotArea_log  1stFlrSF_log  GrLivArea_log  BldgType_2fmCon  \\\n",
      "584    -0.756638     -0.348746       0.278715            False   \n",
      "585     0.452790      1.911383       1.040415            False   \n",
      "586     0.243216     -0.870183      -1.609221            False   \n",
      "587    -0.067974     -0.788622      -1.531529            False   \n",
      "588     1.970412      0.905029       0.081793            False   \n",
      "..           ...           ...            ...              ...   \n",
      "871    -0.065764     -1.000542       0.479581            False   \n",
      "872    -0.034653     -0.610760      -1.362102            False   \n",
      "873     0.567694     -0.202622      -0.367495            False   \n",
      "874    -0.887266     -1.546307      -0.710288            False   \n",
      "875    -0.011322      0.217645       1.796823            False   \n",
      "\n",
      "     BldgType_Duplex  BldgType_Twnhs  BldgType_TwnhsE  KitchenQual_Fa  \\\n",
      "584            False           False            False           False   \n",
      "585            False           False            False           False   \n",
      "586            False           False            False            True   \n",
      "587            False           False            False           False   \n",
      "588            False           False            False           False   \n",
      "..               ...             ...              ...             ...   \n",
      "871            False           False            False           False   \n",
      "872            False           False            False           False   \n",
      "873            False           False            False           False   \n",
      "874            False           False            False           False   \n",
      "875            False           False            False           False   \n",
      "\n",
      "     KitchenQual_Gd  KitchenQual_TA  ...  Neighborhood_NoRidge  \\\n",
      "584            True           False  ...                 False   \n",
      "585            True           False  ...                 False   \n",
      "586           False           False  ...                 False   \n",
      "587           False            True  ...                 False   \n",
      "588           False           False  ...                 False   \n",
      "..              ...             ...  ...                   ...   \n",
      "871            True           False  ...                 False   \n",
      "872            True           False  ...                 False   \n",
      "873           False            True  ...                 False   \n",
      "874           False            True  ...                 False   \n",
      "875           False           False  ...                 False   \n",
      "\n",
      "     Neighborhood_NridgHt  Neighborhood_OldTown  Neighborhood_SWISU  \\\n",
      "584                 False                 False               False   \n",
      "585                 False                 False               False   \n",
      "586                 False                 False               False   \n",
      "587                 False                 False               False   \n",
      "588                 False                 False               False   \n",
      "..                    ...                   ...                 ...   \n",
      "871                 False                 False               False   \n",
      "872                 False                 False               False   \n",
      "873                 False                 False               False   \n",
      "874                 False                  True               False   \n",
      "875                 False                 False               False   \n",
      "\n",
      "     Neighborhood_Sawyer  Neighborhood_SawyerW  Neighborhood_Somerst  \\\n",
      "584                False                 False                 False   \n",
      "585                False                 False                 False   \n",
      "586                False                 False                 False   \n",
      "587                 True                 False                 False   \n",
      "588                False                 False                 False   \n",
      "..                   ...                   ...                   ...   \n",
      "871                False                 False                 False   \n",
      "872                False                 False                 False   \n",
      "873                False                 False                 False   \n",
      "874                False                 False                 False   \n",
      "875                False                 False                  True   \n",
      "\n",
      "     Neighborhood_StoneBr  Neighborhood_Timber  Neighborhood_Veenker  \n",
      "584                 False                False                 False  \n",
      "585                 False                 True                 False  \n",
      "586                 False                False                 False  \n",
      "587                 False                False                 False  \n",
      "588                 False                False                 False  \n",
      "..                    ...                  ...                   ...  \n",
      "871                 False                False                 False  \n",
      "872                 False                False                 False  \n",
      "873                 False                False                 False  \n",
      "874                 False                False                 False  \n",
      "875                 False                False                 False  \n",
      "\n",
      "[292 rows x 47 columns] \n",
      "\n",
      "      LotArea_log  1stFlrSF_log  GrLivArea_log  BldgType_2fmCon  \\\n",
      "876      1.985065     -0.190493      -0.961769            False   \n",
      "877     -0.047300      0.881437       1.317007            False   \n",
      "878      0.509210      0.139597      -0.647335            False   \n",
      "879     -0.497002     -0.774018      -1.517616            False   \n",
      "880     -0.490388     -0.042704      -0.820990            False   \n",
      "...           ...           ...            ...              ...   \n",
      "1163     0.684406      0.408450      -0.391233            False   \n",
      "1164     1.119475      0.816183      -0.002839            False   \n",
      "1165     0.101489      0.966391       0.140244            False   \n",
      "1166     0.281977      1.344998       0.500894            False   \n",
      "1167     0.350308     -0.445694       0.459910            False   \n",
      "\n",
      "      BldgType_Duplex  BldgType_Twnhs  BldgType_TwnhsE  KitchenQual_Fa  \\\n",
      "876             False           False            False           False   \n",
      "877             False           False            False           False   \n",
      "878             False           False            False           False   \n",
      "879             False           False            False           False   \n",
      "880             False           False            False           False   \n",
      "...               ...             ...              ...             ...   \n",
      "1163             True           False            False           False   \n",
      "1164            False           False            False           False   \n",
      "1165            False           False            False           False   \n",
      "1166            False           False            False           False   \n",
      "1167            False           False            False           False   \n",
      "\n",
      "      KitchenQual_Gd  KitchenQual_TA  ...  Neighborhood_NoRidge  \\\n",
      "876            False            True  ...                 False   \n",
      "877            False           False  ...                 False   \n",
      "878             True           False  ...                 False   \n",
      "879            False            True  ...                 False   \n",
      "880            False            True  ...                 False   \n",
      "...              ...             ...  ...                   ...   \n",
      "1163           False            True  ...                 False   \n",
      "1164            True           False  ...                 False   \n",
      "1165            True           False  ...                 False   \n",
      "1166            True           False  ...                 False   \n",
      "1167           False            True  ...                 False   \n",
      "\n",
      "      Neighborhood_NridgHt  Neighborhood_OldTown  Neighborhood_SWISU  \\\n",
      "876                  False                 False               False   \n",
      "877                   True                 False               False   \n",
      "878                  False                 False               False   \n",
      "879                  False                 False               False   \n",
      "880                  False                 False               False   \n",
      "...                    ...                   ...                 ...   \n",
      "1163                 False                 False               False   \n",
      "1164                 False                 False               False   \n",
      "1165                  True                 False               False   \n",
      "1166                 False                 False               False   \n",
      "1167                 False                 False               False   \n",
      "\n",
      "      Neighborhood_Sawyer  Neighborhood_SawyerW  Neighborhood_Somerst  \\\n",
      "876                 False                 False                 False   \n",
      "877                 False                 False                 False   \n",
      "878                  True                 False                 False   \n",
      "879                 False                 False                 False   \n",
      "880                 False                 False                 False   \n",
      "...                   ...                   ...                   ...   \n",
      "1163                 True                 False                 False   \n",
      "1164                False                 False                 False   \n",
      "1165                False                 False                 False   \n",
      "1166                False                 False                 False   \n",
      "1167                False                 False                 False   \n",
      "\n",
      "      Neighborhood_StoneBr  Neighborhood_Timber  Neighborhood_Veenker  \n",
      "876                  False                False                 False  \n",
      "877                  False                False                 False  \n",
      "878                  False                False                 False  \n",
      "879                  False                False                 False  \n",
      "880                  False                False                 False  \n",
      "...                    ...                  ...                   ...  \n",
      "1163                 False                False                 False  \n",
      "1164                 False                False                  True  \n",
      "1165                 False                False                 False  \n",
      "1166                 False                False                 False  \n",
      "1167                 False                False                 False  \n",
      "\n",
      "[292 rows x 47 columns] \n",
      "\n",
      "      LotArea_log  1stFlrSF_log  GrLivArea_log  BldgType_2fmCon  \\\n",
      "1168     0.804631      0.352923       1.156408            False   \n",
      "1169     2.654850      1.589765       2.783348            False   \n",
      "1170     0.168963      0.037123      -0.744948            False   \n",
      "1171     0.014276      0.415947      -0.384092            False   \n",
      "1172    -1.570298     -1.793188      -0.410359            False   \n",
      "...           ...           ...            ...              ...   \n",
      "1455    -0.259100     -0.465447       0.416538            False   \n",
      "1456     0.725171      1.980456       1.106213            False   \n",
      "1457    -0.002324      0.228260       1.469438            False   \n",
      "1458     0.136814     -0.077546      -0.854179            False   \n",
      "1459     0.180080      0.403443      -0.396003            False   \n",
      "\n",
      "      BldgType_Duplex  BldgType_Twnhs  BldgType_TwnhsE  KitchenQual_Fa  \\\n",
      "1168            False           False            False           False   \n",
      "1169            False           False            False           False   \n",
      "1170            False           False            False           False   \n",
      "1171            False           False            False           False   \n",
      "1172            False           False             True           False   \n",
      "...               ...             ...              ...             ...   \n",
      "1455            False           False            False           False   \n",
      "1456            False           False            False           False   \n",
      "1457            False           False            False           False   \n",
      "1458            False           False            False           False   \n",
      "1459            False           False            False           False   \n",
      "\n",
      "      KitchenQual_Gd  KitchenQual_TA  ...  Neighborhood_NoRidge  \\\n",
      "1168            True           False  ...                 False   \n",
      "1169            True           False  ...                  True   \n",
      "1170           False            True  ...                 False   \n",
      "1171           False            True  ...                 False   \n",
      "1172            True           False  ...                 False   \n",
      "...              ...             ...  ...                   ...   \n",
      "1455           False            True  ...                 False   \n",
      "1456           False            True  ...                 False   \n",
      "1457            True           False  ...                 False   \n",
      "1458            True           False  ...                 False   \n",
      "1459           False            True  ...                 False   \n",
      "\n",
      "      Neighborhood_NridgHt  Neighborhood_OldTown  Neighborhood_SWISU  \\\n",
      "1168                 False                 False               False   \n",
      "1169                 False                 False               False   \n",
      "1170                 False                 False               False   \n",
      "1171                 False                 False               False   \n",
      "1172                 False                 False               False   \n",
      "...                    ...                   ...                 ...   \n",
      "1455                 False                 False               False   \n",
      "1456                 False                 False               False   \n",
      "1457                 False                 False               False   \n",
      "1458                 False                 False               False   \n",
      "1459                 False                 False               False   \n",
      "\n",
      "      Neighborhood_Sawyer  Neighborhood_SawyerW  Neighborhood_Somerst  \\\n",
      "1168                False                 False                 False   \n",
      "1169                False                 False                 False   \n",
      "1170                False                 False                 False   \n",
      "1171                False                 False                 False   \n",
      "1172                False                 False                  True   \n",
      "...                   ...                   ...                   ...   \n",
      "1455                False                 False                 False   \n",
      "1456                False                 False                 False   \n",
      "1457                False                 False                 False   \n",
      "1458                False                 False                 False   \n",
      "1459                False                 False                 False   \n",
      "\n",
      "      Neighborhood_StoneBr  Neighborhood_Timber  Neighborhood_Veenker  \n",
      "1168                 False                False                 False  \n",
      "1169                 False                False                 False  \n",
      "1170                 False                False                 False  \n",
      "1171                 False                False                 False  \n",
      "1172                 False                False                 False  \n",
      "...                    ...                  ...                   ...  \n",
      "1455                 False                False                 False  \n",
      "1456                 False                False                 False  \n",
      "1457                 False                False                 False  \n",
      "1458                 False                False                 False  \n",
      "1459                 False                False                 False  \n",
      "\n",
      "[292 rows x 47 columns] \n",
      "\n"
     ]
    }
   ],
   "source": [
    "# Apply kfolds() to ames_data with 5 folds\n",
    "\n",
    "X_folds = kfolds(X, 5)\n",
    "for result in X_folds:\n",
    "    print(result, \"\\n\")"
   ]
  },
  {
   "cell_type": "code",
   "execution_count": 21,
   "metadata": {},
   "outputs": [
    {
     "name": "stdout",
     "output_type": "stream",
     "text": [
      "0      0.559876\n",
      "1      0.212692\n",
      "2      0.733795\n",
      "3     -0.437232\n",
      "4      1.014303\n",
      "         ...   \n",
      "287   -1.599589\n",
      "288   -0.781758\n",
      "289   -0.205548\n",
      "290    0.840475\n",
      "291   -0.511642\n",
      "Name: SalePrice_log, Length: 292, dtype: float64 \n",
      "\n",
      "292   -0.603573\n",
      "293    0.859402\n",
      "294    0.004251\n",
      "295   -0.392922\n",
      "296   -0.231355\n",
      "         ...   \n",
      "579   -0.594036\n",
      "580    0.218203\n",
      "581    1.047063\n",
      "582   -0.854628\n",
      "583    1.671114\n",
      "Name: SalePrice_log, Length: 292, dtype: float64 \n",
      "\n",
      "584   -0.565641\n",
      "585    1.995077\n",
      "586   -0.622756\n",
      "587   -0.491460\n",
      "588   -0.384154\n",
      "         ...   \n",
      "871    0.461930\n",
      "872   -0.908008\n",
      "873   -0.565641\n",
      "874   -2.300887\n",
      "875    1.499580\n",
      "Name: SalePrice_log, Length: 292, dtype: float64 \n",
      "\n",
      "876    -0.579798\n",
      "877     1.856638\n",
      "878    -0.298117\n",
      "879    -0.500614\n",
      "880    -0.150331\n",
      "          ...   \n",
      "1163   -1.064769\n",
      "1164    0.379426\n",
      "1165    0.839831\n",
      "1166    0.967301\n",
      "1167    0.092617\n",
      "Name: SalePrice_log, Length: 292, dtype: float64 \n",
      "\n",
      "1168    0.859402\n",
      "1169    3.308173\n",
      "1170    0.063507\n",
      "1171   -0.056441\n",
      "1172    0.076648\n",
      "          ...   \n",
      "1455    0.121392\n",
      "1456    0.577822\n",
      "1457    1.174306\n",
      "1458   -0.399519\n",
      "1459   -0.306589\n",
      "Name: SalePrice_log, Length: 292, dtype: float64 \n",
      "\n"
     ]
    }
   ],
   "source": [
    "y_folds = kfolds(y, 5)\n",
    "for result in y_folds:\n",
    "    print(result, \"\\n\")"
   ]
  },
  {
   "cell_type": "markdown",
   "metadata": {},
   "source": [
    "### Perform a Linear Regression for Each Fold and Calculate the Test Error\n",
    "\n",
    "Remember that for each fold you will need to concatenate all but one of the folds to represent the training data, while the one remaining fold represents the test data."
   ]
  },
  {
   "cell_type": "code",
   "execution_count": 22,
   "metadata": {},
   "outputs": [
    {
     "name": "stdout",
     "output_type": "stream",
     "text": [
      "[0.12431546148437402, 0.19350064631313094, 0.1891053043131115, 0.17079325250026892, 0.20742704588916905]\n"
     ]
    }
   ],
   "source": [
    "# Replace None with appropriate code\n",
    "test_errs = []\n",
    "k = 5\n",
    "\n",
    "for n in range(k):\n",
    "    # Split into train and test for the fold\n",
    "    X_train = pd.concat([fold for i, fold in enumerate(X_folds) if i!=n])\n",
    "    X_test = X_folds[n]\n",
    "    y_train = pd.concat([fold for i, fold in enumerate(y_folds) if i!=n])\n",
    "    y_test = y_folds[n]\n",
    "    \n",
    "    # Fit a linear regression model\n",
    "    linreg.fit(X_train, y_train)\n",
    "    \n",
    "    # Evaluate test errors\n",
    "    y_hat_test = linreg.predict(X_test)\n",
    "    test_residuals = y_hat_test - y_test\n",
    "    test_errs.append(np.mean(test_residuals.astype(float)**2))\n",
    "    \n",
    "print(test_errs)"
   ]
  },
  {
   "cell_type": "markdown",
   "metadata": {},
   "source": [
    "If your code was written correctly, these should be the same errors as scikit-learn produced with `cross_val_score` (within rounding error). Test this out below:"
   ]
  },
  {
   "cell_type": "code",
   "execution_count": 24,
   "metadata": {},
   "outputs": [
    {
     "name": "stdout",
     "output_type": "stream",
     "text": [
      "Split 1\n",
      "My result:      0.1243\n",
      "sklearn result: 0.1243\n",
      "\n",
      "Split 2\n",
      "My result:      0.1935\n",
      "sklearn result: 0.1935\n",
      "\n",
      "Split 3\n",
      "My result:      0.1891\n",
      "sklearn result: 0.1891\n",
      "\n",
      "Split 4\n",
      "My result:      0.1708\n",
      "sklearn result: 0.1708\n",
      "\n",
      "Split 5\n",
      "My result:      0.2074\n",
      "sklearn result: 0.2074\n",
      "\n"
     ]
    }
   ],
   "source": [
    "# Compare your results with sklearn results\n",
    "\n",
    "for k in range(5):\n",
    "    print(f\"Split {k+1}\")\n",
    "    print(f\"My result:      {round(test_errs[k], 4)}\")\n",
    "    print(f\"sklearn result: {round(cv_results_5[k], 4)}\\n\")"
   ]
  },
  {
   "cell_type": "markdown",
   "metadata": {},
   "source": [
    "This was a bit of work! Hopefully you have a clearer understanding of the underlying logic for cross-validation if you attempted this exercise."
   ]
  },
  {
   "cell_type": "markdown",
   "metadata": {},
   "source": [
    "##  Summary "
   ]
  },
  {
   "cell_type": "markdown",
   "metadata": {},
   "source": [
    "Congratulations! You are now familiar with cross-validation and know how to use `cross_val_score()`. Remember that the results obtained from cross-validation are more robust than train-test split."
   ]
  }
 ],
 "metadata": {
  "kernelspec": {
   "display_name": "Python 3 (ipykernel)",
   "language": "python",
   "name": "python3"
  },
  "language_info": {
   "codemirror_mode": {
    "name": "ipython",
    "version": 3
   },
   "file_extension": ".py",
   "mimetype": "text/x-python",
   "name": "python",
   "nbconvert_exporter": "python",
   "pygments_lexer": "ipython3",
   "version": "3.8.19"
  }
 },
 "nbformat": 4,
 "nbformat_minor": 4
}
